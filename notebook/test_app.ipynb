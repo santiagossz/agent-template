{
 "cells": [
  {
   "cell_type": "code",
   "execution_count": 1,
   "metadata": {},
   "outputs": [],
   "source": [
    "import json\n",
    "import httpx\n",
    "import requests\n",
    "import asyncio\n",
    "import nest_asyncio\n",
    "nest_asyncio.apply()\n",
    "\n",
    "url = \"http://localhost:8000\"\n",
    "client = httpx.AsyncClient(timeout=httpx.Timeout(300.0))\n",
    "\n",
    "def invoke_api(s_id=None):\n",
    "    api_url = f\"{url}/session\"\n",
    "    if s_id:\n",
    "        api_url = f\"{api_url}/{s_id}/memory\"\n",
    "    res = requests.post(api_url)\n",
    "    return res.json()"
   ]
  },
  {
   "cell_type": "code",
   "execution_count": 2,
   "metadata": {},
   "outputs": [],
   "source": [
    "async def stream_api(payload):\n",
    "    async with client.stream(**payload) as res:\n",
    "        async for msg in res.aiter_text():\n",
    "            chunk = json.loads(msg)\n",
    "            if \"node\" in chunk:\n",
    "                yield [\"content\"]\n",
    "            else:\n",
    "                yield chunk\n",
    "async def draw_messages(messages_agen):\n",
    "    while msg := await anext(messages_agen, None):  # noqa: F821        \n",
    "        print(msg)"
   ]
  },
  {
   "cell_type": "code",
   "execution_count": 3,
   "metadata": {},
   "outputs": [
    {
     "name": "stdout",
     "output_type": "stream",
     "text": [
      "\n"
     ]
    }
   ],
   "source": [
    " \n",
    "session_id = invoke_api()[\"session_id\"]\n",
    "msg = \"\"\n",
    "\n",
    "p1 = {\n",
    "    \"method\": \"POST\",\n",
    "    \"url\": f\"{url}/session/{session_id}/messages\",\n",
    "    \"json\": {\n",
    "        \"msg\": {\"message\": {\"content\": msg,\"type\": \"text\"}}\n",
    "}\n",
    "}\n",
    "\n",
    "stream = stream_api(p1)\n",
    "print(asyncio.run(draw_messages(stream)))"
   ]
  },
  {
   "cell_type": "code",
   "execution_count": 15,
   "metadata": {},
   "outputs": [],
   "source": [
    "mem = invoke_api(session_id)"
   ]
  }
 ],
 "metadata": {
  "kernelspec": {
   "display_name": ".venv",
   "language": "python",
   "name": "python3"
  },
  "language_info": {
   "codemirror_mode": {
    "name": "ipython",
    "version": 3
   },
   "file_extension": ".py",
   "mimetype": "text/x-python",
   "name": "python",
   "nbconvert_exporter": "python",
   "pygments_lexer": "ipython3",
   "version": "3.13.2"
  }
 },
 "nbformat": 4,
 "nbformat_minor": 2
}
